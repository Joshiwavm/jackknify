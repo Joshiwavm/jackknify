{
 "cells": [
  {
   "cell_type": "markdown",
   "id": "8ba3865b-b142-4842-ba34-7773c5de62d2",
   "metadata": {},
   "source": [
    "# How to: Jackknife Measurement Sets\n",
    "\n",
    "This tutorial explains how to jackknife measurement sets (ms-files), particularly for ALMA data, to create observation-specific noise realizations. We will use the `jackknify` package to handle ms-files, split them, and image the visibilities. \n",
    "\n",
    "### Step 1: Download Example Data\n",
    "First, download an example measurement set from [this link](https://drive.google.com/file/d/11933cHM2kpqRG_E2BdlQ81FHRWmyye3i/view?usp=sharing). After downloading, unzip the file and note the directory where you store it for future reference."
   ]
  },
  {
   "cell_type": "markdown",
   "id": "0d1fc8a7-6275-48c4-a64c-0e99d8b25ed2",
   "metadata": {},
   "source": [
    "### Step 2: Initializing\n",
    "To start using the `jackknify` package, we need to initialize the measurement set so that `jackknify` can interface with CASA."
   ]
  },
  {
   "cell_type": "code",
   "execution_count": 1,
   "id": "a26759ef-8147-477f-8884-9691d0a5df27",
   "metadata": {},
   "outputs": [],
   "source": [
    "import jackknify"
   ]
  },
  {
   "cell_type": "code",
   "execution_count": 2,
   "id": "5c75dafb-68cb-4e43-87b7-192e3f1c2617",
   "metadata": {
    "tags": []
   },
   "outputs": [],
   "source": [
    "#initilaize\n",
    "tool = jackknify.Jack(fname   = '../../data/Glass-z13.ms', # The file name of the visibilities, \n",
    "                      outdir  = '../../output/', #the directory to save the outputs in\n",
    "                      fields  = ['3'], # Each visibility can have multiple fields, \n",
    "                      spws    = [['0']], # and each field can have multiple spws,\n",
    "                      band    = 'Band7', # Band of the observation,\n",
    "                      array   = 'C7', # which configuration the observation are taken in,\n",
    "                      )"
   ]
  },
  {
   "cell_type": "markdown",
   "id": "ec1a048d-3e9a-4170-82e4-01981c864e11",
   "metadata": {},
   "source": [
    "### Step 3: Create a Jackknifed Measurement Set\n",
    "To create a jackknifed measurement set, simply run the following code. \n",
    "This will generate the jackknifed measurement set, which you can then use for further analysis or imaging."
   ]
  },
  {
   "cell_type": "code",
   "execution_count": 3,
   "id": "6620c09e-6489-451b-bee5-8fb5332d2407",
   "metadata": {},
   "outputs": [
    {
     "name": "stderr",
     "output_type": "stream",
     "text": [
      "  0%|          | 0/1 [00:00<?, ?it/s]"
     ]
    },
    {
     "name": "stdout",
     "output_type": "stream",
     "text": [
      ".. Loading in MS\n",
      ".. Jack Knife it\n",
      ".. Saving to MS\n",
      ".. Image\n"
     ]
    },
    {
     "name": "stderr",
     "output_type": "stream",
     "text": [
      "100%|██████████| 1/1 [08:52<00:00, 532.64s/it]\n"
     ]
    }
   ],
   "source": [
    "tool.run(seed = 42)"
   ]
  },
  {
   "cell_type": "markdown",
   "id": "374826cc-c793-43d2-9c64-5eb0ea54a0d2",
   "metadata": {},
   "source": [
    "Want another one? Just run it again, but with another seed:"
   ]
  },
  {
   "cell_type": "code",
   "execution_count": 4,
   "id": "c8cd81f4-b246-4312-99a6-0f0f14eadb16",
   "metadata": {},
   "outputs": [
    {
     "name": "stderr",
     "output_type": "stream",
     "text": [
      "  0%|          | 0/1 [00:00<?, ?it/s]"
     ]
    },
    {
     "name": "stdout",
     "output_type": "stream",
     "text": [
      ".. Loading in MS\n",
      ".. Jack Knife it\n",
      ".. Saving to MS\n",
      ".. Image\n"
     ]
    },
    {
     "name": "stderr",
     "output_type": "stream",
     "text": [
      "100%|██████████| 1/1 [11:58<00:00, 718.84s/it]\n"
     ]
    }
   ],
   "source": [
    "tool.run(seed = 142)"
   ]
  },
  {
   "cell_type": "markdown",
   "id": "b716a87c-5b13-428c-bfca-b417bff801a6",
   "metadata": {},
   "source": [
    "### Step 4: Multiple runs\n",
    "If you want multiple simulatiously, just run the following. This automatically increments the seeding."
   ]
  },
  {
   "cell_type": "code",
   "execution_count": 5,
   "id": "05e65d17-0a3c-4881-b73d-9febd5b03857",
   "metadata": {},
   "outputs": [
    {
     "name": "stderr",
     "output_type": "stream",
     "text": [
      " 67%|██████▋   | 2/3 [22:19<11:04, 664.68s/it]"
     ]
    },
    {
     "name": "stdout",
     "output_type": "stream",
     "text": [
      ".. Loading in MS\n",
      ".. Jack Knife it\n",
      ".. Saving to MS\n",
      ".. Image\n"
     ]
    },
    {
     "name": "stderr",
     "output_type": "stream",
     "text": [
      "100%|██████████| 3/3 [31:29<00:00, 629.82s/it]\n"
     ]
    }
   ],
   "source": [
    "tool.run(samples = 3, seed = 242)"
   ]
  },
  {
   "cell_type": "markdown",
   "id": "99d064f4-c7bd-479a-a931-a400fdfb784f",
   "metadata": {},
   "source": [
    "Now you are all done! You have five new noise realizations of your observation, all stored in the output directory."
   ]
  },
  {
   "cell_type": "code",
   "execution_count": null,
   "id": "97489533-b489-4a58-8c70-d6ca1351ad16",
   "metadata": {},
   "outputs": [],
   "source": []
  }
 ],
 "metadata": {
  "kernelspec": {
   "display_name": "jacked_kernel",
   "language": "python",
   "name": "jacked_kernel"
  },
  "language_info": {
   "codemirror_mode": {
    "name": "ipython",
    "version": 3
   },
   "file_extension": ".py",
   "mimetype": "text/x-python",
   "name": "python",
   "nbconvert_exporter": "python",
   "pygments_lexer": "ipython3",
   "version": "3.6.13"
  }
 },
 "nbformat": 4,
 "nbformat_minor": 5
}
