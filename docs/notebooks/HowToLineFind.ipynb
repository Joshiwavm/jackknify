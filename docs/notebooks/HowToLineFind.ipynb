{
 "cells": [
  {
   "cell_type": "markdown",
   "id": "870343b9-07ae-491a-b743-650b69e33f98",
   "metadata": {},
   "source": [
    "# How to: Use `jackknify` for line finding. "
   ]
  },
  {
   "cell_type": "markdown",
   "id": "6cd6f83b-8236-46fe-b940-93cccfc82367",
   "metadata": {},
   "source": [
    "`jackknify` can be used in a variaty of ways. Here, we show how to use the jackknifed data sets for inference of a line detection. According to JWST data, In the ALMA data we have been working with, there should be [OIII] emission coming from a galaxy which some 14 Billion light years away. Let's see if we can find it, or if it is undistinguishable from noise.\n",
    "\n",
    "The line finding is done with a code named [Source EXtractor](https://www.astromatic.net/software/sextractor/). Source extractor is integrated in a Python interface through the [`Interferopy` package](https://interferopy.readthedocs.io/en/latest/). Sadly, Interferopy is restricts the usage of Python version (>3.6 and <3.10), meaning we can't integrate it with `jackknify` since `jackknify` works in the visibillity plane, therefore it needs to use the package `casatasks` which limits the Python version to Python=3.6-3.8. Therefore, we ran the linefinding seperately, but you can you find the output catalogs also on the [google drive](https://drive.google.com/file/d/1FlQNwy7VtAk0zcFfdW5tMY2aGKivxlyR/view?usp=sharing) and the script we used to generate the outputs in the same folder as the tutorials. \n",
    "\n",
    "Let's first load in everythinbg. "
   ]
  },
  {
   "cell_type": "markdown",
   "id": "e0fde5d3-b707-4110-ad06-cd64a52eef69",
   "metadata": {},
   "source": [
    "### Load in "
   ]
  },
  {
   "cell_type": "code",
   "execution_count": 1,
   "id": "2561edc8-1e1b-4f78-ba4f-fd081fe267fb",
   "metadata": {},
   "outputs": [],
   "source": [
    "import numpy as np\n",
    "from scipy import stats\n",
    "from astropy import units as u\n",
    "from astropy.coordinates import SkyCoord\n",
    "\n",
    "import matplotlib.pyplot as plt\n",
    "plt.rcParams['text.usetex'] = True"
   ]
  },
  {
   "cell_type": "code",
   "execution_count": 2,
   "id": "65624796-602f-41bb-9c6c-8fccbf3f97cd",
   "metadata": {},
   "outputs": [],
   "source": [
    "# load in all catalogs\n",
    "# change directory depending on where you downloaded it\n",
    "path0 = '../../output/findclumps/Glass-z13/' \n",
    "path1 = '../../output/findclumps/Glass-z13_Jacked_seed42/'\n",
    "path2 = '../../output/findclumps/Glass-z13_Jacked_seed142/'\n",
    "path3 = '../../output/findclumps/Glass-z13_Jacked_seed242/'\n",
    "path4 = '../../output/findclumps/Glass-z13_Jacked_seed243/'\n",
    "path5 = '../../output/findclumps/Glass-z13_Jacked_seed244/'\n",
    "\n",
    "cat_N = 'findlcumps_clumpsN_minSNR_-2.cat'\n",
    "cat_P = 'findlcumps_clumpsP_minSNR_-2.cat'\n",
    "\n",
    "data_real_N = ascii.read(path0+cat_N)\n",
    "data_jack1_N = ascii.read(path1+cat_N)\n",
    "data_jack2_N = ascii.read(path2+cat_N)\n",
    "data_jack3_N = ascii.read(path3+cat_N)\n",
    "data_jack4_N = ascii.read(path4+cat_N)\n",
    "data_jack5_N = ascii.read(path5+cat_N)\n",
    "\n",
    "data_real_P = ascii.read(path0+cat_P)\n",
    "data_jack1_P = ascii.read(path1+cat_P)\n",
    "data_jack2_P = ascii.read(path2+cat_P)\n",
    "data_jack3_P = ascii.read(path3+cat_P)\n",
    "data_jack4_P = ascii.read(path4+cat_P)\n",
    "data_jack5_P = ascii.read(path5+cat_P)"
   ]
  },
  {
   "cell_type": "markdown",
   "id": "76b5c79e-57f2-4545-a824-038099f65a76",
   "metadata": {},
   "source": [
    "This is how a single catalog looks like. "
   ]
  },
  {
   "cell_type": "code",
   "execution_count": 3,
   "id": "e173a554-5aab-4451-b895-0f98495d3922",
   "metadata": {},
   "outputs": [
    {
     "data": {
      "text/html": [
       "<i>Table length=5151</i>\n",
       "<table id=\"table140351703579392\" class=\"table-striped table-bordered table-condensed\">\n",
       "<thead><tr><th>RA</th><th>DEC</th><th>FREQ_GHZ</th><th>X</th><th>Y</th><th>SNR</th><th>FLUX_MAX</th><th>BINNING</th></tr></thead>\n",
       "<thead><tr><th>float64</th><th>float64</th><th>float64</th><th>float64</th><th>float64</th><th>float64</th><th>float64</th><th>int64</th></tr></thead>\n",
       "<tr><td>3.49878</td><td>-30.32503</td><td>253.8213</td><td>725.7</td><td>192.8</td><td>2.12</td><td>0.000568</td><td>3</td></tr>\n",
       "<tr><td>3.4994</td><td>-30.32519</td><td>253.8213</td><td>82.2</td><td>1.4</td><td>1.52</td><td>0.000409</td><td>3</td></tr>\n",
       "<tr><td>3.49895</td><td>-30.32447</td><td>253.8213</td><td>547.7</td><td>870.8</td><td>2.38</td><td>0.000637</td><td>3</td></tr>\n",
       "<tr><td>3.49947</td><td>-30.32434</td><td>253.8213</td><td>8.8</td><td>1020.9</td><td>2.03</td><td>0.000543</td><td>3</td></tr>\n",
       "<tr><td>3.49931</td><td>-30.32443</td><td>253.8213</td><td>178.3</td><td>913.3</td><td>1.45</td><td>0.000389</td><td>3</td></tr>\n",
       "<tr><td>3.49914</td><td>-30.32455</td><td>253.8213</td><td>357.5</td><td>774.6</td><td>1.71</td><td>0.000459</td><td>3</td></tr>\n",
       "<tr><td>3.49948</td><td>-30.32455</td><td>253.8213</td><td>5.0</td><td>775.0</td><td>1.66</td><td>0.000444</td><td>3</td></tr>\n",
       "<tr><td>3.49932</td><td>-30.32458</td><td>253.8213</td><td>169.2</td><td>734.1</td><td>2.48</td><td>0.000664</td><td>3</td></tr>\n",
       "<tr><td>3.49861</td><td>-30.32458</td><td>253.8213</td><td>896.9</td><td>736.1</td><td>2.74</td><td>0.000734</td><td>3</td></tr>\n",
       "<tr><td>3.49895</td><td>-30.32457</td><td>253.8213</td><td>550.6</td><td>749.8</td><td>1.51</td><td>0.000405</td><td>3</td></tr>\n",
       "<tr><td>...</td><td>...</td><td>...</td><td>...</td><td>...</td><td>...</td><td>...</td><td>...</td></tr>\n",
       "<tr><td>3.49918</td><td>-30.32477</td><td>255.4775</td><td>314.7</td><td>510.0</td><td>1.92</td><td>0.000674</td><td>9</td></tr>\n",
       "<tr><td>3.49915</td><td>-30.32485</td><td>255.4775</td><td>339.8</td><td>416.0</td><td>1.57</td><td>0.000554</td><td>9</td></tr>\n",
       "<tr><td>3.49865</td><td>-30.32487</td><td>255.4775</td><td>861.0</td><td>392.9</td><td>1.97</td><td>0.000693</td><td>9</td></tr>\n",
       "<tr><td>3.49901</td><td>-30.32487</td><td>255.4775</td><td>490.8</td><td>388.8</td><td>1.57</td><td>0.000552</td><td>9</td></tr>\n",
       "<tr><td>3.49945</td><td>-30.32502</td><td>255.4775</td><td>28.6</td><td>214.7</td><td>3.02</td><td>0.001062</td><td>9</td></tr>\n",
       "<tr><td>3.49895</td><td>-30.32505</td><td>255.4775</td><td>551.9</td><td>168.4</td><td>1.67</td><td>0.000586</td><td>9</td></tr>\n",
       "<tr><td>3.4989</td><td>-30.32436</td><td>255.4775</td><td>600.7</td><td>998.3</td><td>1.62</td><td>0.000571</td><td>9</td></tr>\n",
       "<tr><td>3.49913</td><td>-30.32448</td><td>255.4775</td><td>361.4</td><td>856.1</td><td>2.34</td><td>0.000824</td><td>9</td></tr>\n",
       "<tr><td>3.49946</td><td>-30.32513</td><td>255.4775</td><td>19.1</td><td>72.6</td><td>1.47</td><td>0.000518</td><td>9</td></tr>\n",
       "<tr><td>3.49854</td><td>-30.32451</td><td>255.4775</td><td>978.8</td><td>824.2</td><td>2.23</td><td>0.000785</td><td>9</td></tr>\n",
       "</table>"
      ],
      "text/plain": [
       "<Table length=5151>\n",
       "   RA      DEC    FREQ_GHZ    X       Y      SNR   FLUX_MAX BINNING\n",
       "float64  float64  float64  float64 float64 float64 float64   int64 \n",
       "------- --------- -------- ------- ------- ------- -------- -------\n",
       "3.49878 -30.32503 253.8213   725.7   192.8    2.12 0.000568       3\n",
       " 3.4994 -30.32519 253.8213    82.2     1.4    1.52 0.000409       3\n",
       "3.49895 -30.32447 253.8213   547.7   870.8    2.38 0.000637       3\n",
       "3.49947 -30.32434 253.8213     8.8  1020.9    2.03 0.000543       3\n",
       "3.49931 -30.32443 253.8213   178.3   913.3    1.45 0.000389       3\n",
       "3.49914 -30.32455 253.8213   357.5   774.6    1.71 0.000459       3\n",
       "3.49948 -30.32455 253.8213     5.0   775.0    1.66 0.000444       3\n",
       "3.49932 -30.32458 253.8213   169.2   734.1    2.48 0.000664       3\n",
       "3.49861 -30.32458 253.8213   896.9   736.1    2.74 0.000734       3\n",
       "3.49895 -30.32457 253.8213   550.6   749.8    1.51 0.000405       3\n",
       "    ...       ...      ...     ...     ...     ...      ...     ...\n",
       "3.49918 -30.32477 255.4775   314.7   510.0    1.92 0.000674       9\n",
       "3.49915 -30.32485 255.4775   339.8   416.0    1.57 0.000554       9\n",
       "3.49865 -30.32487 255.4775   861.0   392.9    1.97 0.000693       9\n",
       "3.49901 -30.32487 255.4775   490.8   388.8    1.57 0.000552       9\n",
       "3.49945 -30.32502 255.4775    28.6   214.7    3.02 0.001062       9\n",
       "3.49895 -30.32505 255.4775   551.9   168.4    1.67 0.000586       9\n",
       " 3.4989 -30.32436 255.4775   600.7   998.3    1.62 0.000571       9\n",
       "3.49913 -30.32448 255.4775   361.4   856.1    2.34 0.000824       9\n",
       "3.49946 -30.32513 255.4775    19.1    72.6    1.47 0.000518       9\n",
       "3.49854 -30.32451 255.4775   978.8   824.2    2.23 0.000785       9"
      ]
     },
     "execution_count": 3,
     "metadata": {},
     "output_type": "execute_result"
    }
   ],
   "source": [
    "data_jack5_P"
   ]
  },
  {
   "cell_type": "markdown",
   "id": "cb1571cd-906d-4405-a3de-3b45763984ed",
   "metadata": {},
   "source": [
    "## Plot sampled probabillity functions\n",
    "\n",
    "As explained in [Vio & Andreani 2016](https://arxiv.org/abs/1602.02392), the underlying distribution that sets the likelihood of false detection is the distribution of peaks of a smoothed (close to) Gaussian random field. With the jackedknifed measurment sets we effectively resample this distribution. This is more complete and more acurately than, for isntance, using the distribution of negative peak values as used in [Walter+2016](https://arxiv.org/abs/1607.06768). \n",
    "\n",
    "### Comparing the two noise distribution\n",
    "Below we show the comparison between the linefind results done on the jackknifed cubes (with postive and negative peak values) and the distribution of negative peak values from the real data."
   ]
  },
  {
   "cell_type": "code",
   "execution_count": 4,
   "id": "04bc352c-8bd7-4388-acce-0318bcd25db4",
   "metadata": {},
   "outputs": [],
   "source": [
    "coord_JWST = (3.498985, -30.324767)\n",
    "c1 = SkyCoord(coord_JWST[0]*u.deg, coord_JWST[1]*u.deg, frame='icrs')\n",
    "\n",
    "# mask selection first\n",
    "data_jack_RA_P = np.hstack((data_jack1_P['RA'], data_jack2_P['RA'], data_jack3_P['RA'], data_jack4_P['RA'], data_jack5_P['RA']))\n",
    "data_jack_DC_P = np.hstack((data_jack1_P['DEC'], data_jack2_P['DEC'], data_jack3_P['DEC'], data_jack4_P['DEC'], data_jack5_P['DEC']))\n",
    "c2_jack_P      = SkyCoord(ra = data_jack_RA_P*u.deg, dec = data_jack_DC_P*u.deg, frame='icrs')\n",
    "sep_jack_P     = c1.separation(c2_jack_P).to(u.arcsec).value\n",
    "mask_jack_P    = sep_jack_P < 0.5\n",
    "\n",
    "data_real_RA_P = data_real_P['RA']\n",
    "data_real_DC_P = data_real_P['DEC']\n",
    "c2_real_P      = SkyCoord(ra = data_real_RA_P*u.deg, dec = data_real_DC_P*u.deg, frame='icrs')\n",
    "sep_real_P     = c1.separation(c2_real_P).to(u.arcsec).value\n",
    "mask_real_P    = sep_real_P < 0.5\n",
    "\n",
    "\n",
    "data_jack_RA_N = np.hstack((data_jack1_N['RA'], data_jack2_N['RA'], data_jack3_N['RA'], data_jack4_N['RA'], data_jack5_N['RA']))\n",
    "data_jack_DC_N = np.hstack((data_jack1_N['DEC'], data_jack2_N['DEC'], data_jack3_N['DEC'], data_jack4_N['DEC'], data_jack5_N['DEC']))\n",
    "c2_jack_N      = SkyCoord(ra = data_jack_RA_N*u.deg, dec = data_jack_DC_N*u.deg, frame='icrs')\n",
    "sep_jack_N     = c1.separation(c2_jack_N).to(u.arcsec).value\n",
    "mask_jack_N    = sep_jack_N < 0.5\n",
    "\n",
    "data_real_RA_N = data_real_N['RA']\n",
    "data_real_DC_N = data_real_N['DEC']\n",
    "c2_real_N      = SkyCoord(ra = data_real_RA_N*u.deg, dec = data_real_DC_N*u.deg, frame='icrs')\n",
    "sep_real_N     = c1.separation(c2_real_N).to(u.arcsec).value\n",
    "mask_real_N    = sep_real_N < 0.5"
   ]
  },
  {
   "cell_type": "code",
   "execution_count": 5,
   "id": "f7efa87e",
   "metadata": {},
   "outputs": [
    {
     "data": {
      "image/png": "[encoded data removed]",
      "text/plain": [
       "<Figure size 360x288 with 1 Axes>"
      ]
     },
     "metadata": {
      "needs_background": "light"
     },
     "output_type": "display_data"
    }
   ],
   "source": [
    "# append the jackknifed cubed into one sample\n",
    "data_jack_P = np.hstack((data_jack1_P['SNR'], data_jack2_P['SNR'], data_jack3_P['SNR'], data_jack4_P['SNR'], data_jack5_P['SNR']))\n",
    "data_jack_N = np.hstack((data_jack1_N['SNR'], data_jack2_N['SNR'], data_jack3_N['SNR'], data_jack4_N['SNR'], data_jack5_N['SNR']))\n",
    "\n",
    "plt.figure(figsize=(5,4))\n",
    "plt.hist(data_real_N['SNR'][mask_real_N], bins = np.linspace(1, 6, 25), density = True, alpha = 0.5, edgecolor='black', label = r'N$_{\\rm neg}$ real', color = 'C0')\n",
    "plt.hist(data_jack_P[mask_jack_P],        bins = np.linspace(1, 6, 25), density = True, alpha = 0.5, edgecolor='black', label = r'N$_{\\rm pos}$ jacked', color = 'C1')\n",
    "\n",
    "plt.xlabel(r'$\\gamma$ [$S/N$]', fontsize = 12)\n",
    "plt.ylabel(r'$\\mathcal{P}_{\\rm FD}$', fontsize = 12)\n",
    "plt.legend(frameon=False, fontsize = 12)\n",
    "\n",
    "plt.semilogy()\n",
    "plt.tight_layout()\n",
    "plt.savefig('../../plots/neg_vs_pos.pdf', dpi = 300)\n",
    "plt.show()"
   ]
  },
  {
   "cell_type": "markdown",
   "id": "53789b94-d2e5-4000-91b9-562b9dd4c9eb",
   "metadata": {},
   "source": [
    "We can do a quick statistical to verify if the two distributions are drawn from the same distribution. "
   ]
  },
  {
   "cell_type": "code",
   "execution_count": 6,
   "id": "6759960b-9a13-4fcc-b74d-51adafe413e6",
   "metadata": {},
   "outputs": [
    {
     "name": "stdout",
     "output_type": "stream",
     "text": [
      "p-value = 0.03565\n"
     ]
    }
   ],
   "source": [
    "print('p-value = {:.5f}'.format(stats.ks_2samp(data_real_N['SNR'][mask_real_N] ,data_jack_P[mask_jack_P]).pvalue))"
   ]
  },
  {
   "cell_type": "markdown",
   "id": "9c4d0ca7-a354-4bd1-a4f3-1e4cf5858d07",
   "metadata": {},
   "source": [
    "The null hypothesis that the two random samples come from the same distribution can be rejected by only "
   ]
  },
  {
   "cell_type": "markdown",
   "id": "3641813b-ec8a-4394-bf24-29567590a2c4",
   "metadata": {},
   "source": [
    "### Detection inference\n",
    "\n",
    "Now let's compare the noise distribution --- drawn fromt the jackknifed data sets --- with the positive peak distribution of the real initial data set. Since the astronomical signal is positive, any excess in peaks distribution in the data can be considered true."
   ]
  },
  {
   "cell_type": "markdown",
   "id": "d23f5134-69cb-4c66-a4d9-9cd7d67a3c92",
   "metadata": {},
   "source": [
    "Further, we have prior information on the redshift and source position. Therefore, we use Bayes theorom to get the final posterior distribution. First we plot the initial PDF"
   ]
  },
  {
   "cell_type": "code",
   "execution_count": 7,
   "id": "f9f69655-26e5-4e1a-ac6f-d01f2f723b98",
   "metadata": {},
   "outputs": [
    {
     "data": {
      "image/png": "[encoded data removed]",
      "text/plain": [
       "<Figure size 432x288 with 1 Axes>"
      ]
     },
     "metadata": {
      "needs_background": "light"
     },
     "output_type": "display_data"
    }
   ],
   "source": [
    "# Density vs SNR\n",
    "# --------------\n",
    "\n",
    "# append the jackknifed cubed into one sample\n",
    "data_jack_P = np.hstack((data_jack1_P['SNR'], data_jack2_P['SNR'], data_jack3_P['SNR'], data_jack4_P['SNR'], data_jack5_P['SNR']))\n",
    "\n",
    "plt.figure(figsize=(6,4))\n",
    "bins_D  = plt.hist(data_real_P['SNR'][mask_real_P], bins = np.linspace(1, 6, 25), density = True, alpha = 0.7, edgecolor='black', label = r'N$_{\\rm pos}$ real')\n",
    "bins_FD = plt.hist(data_jack_P[mask_jack_P], bins = np.linspace(1, 6, 25), density = True, alpha = 0.7, edgecolor='black', label = r'N$_{\\rm pos}$ jacked')\n",
    "\n",
    "# plotting the Poisson uncertainty\n",
    "bin_widths = bins_D[1][1] - bins_D[1][0]\n",
    "bin_centers = 0.5 * (bins_D[1][1:] + bins_D[1][:-1])\n",
    "raw_counts, _ = np.histogram(data_real_P['SNR'][mask_real_P], bins=np.linspace(1, 6, 25))\n",
    "uncertainties = np.sqrt(raw_counts)\n",
    "density_uncertainties = uncertainties / (len(data_real_P['SNR'][mask_real_P]) * bin_widths)\n",
    "\n",
    "plt.errorbar(bin_centers, bins_D[0], yerr=density_uncertainties, fmt=' ', color='k', label='Poisson uncertainty')\n",
    "\n",
    "\n",
    "plt.xlabel(r'$\\gamma$ [$S/N$]', fontsize = 12)\n",
    "plt.ylabel(r'$\\mathcal{P}_{\\rm FD}$ vs $\\mathcal{P}_{\\rm D}$', fontsize = 12)\n",
    "plt.legend(frameon=False, fontsize = 12)\n",
    "plt.semilogy()\n",
    "\n",
    "plt.tight_layout()\n",
    "plt.savefig('../../plots/pos_vs_pos_zoom.pdf', dpi = 300)\n",
    "plt.show()"
   ]
  }
 ],
 "metadata": {
  "kernelspec": {
   "display_name": "jacked_kernel",
   "language": "python",
   "name": "jacked_kernel"
  },
  "language_info": {
   "codemirror_mode": {
    "name": "ipython",
    "version": 3
   },
   "file_extension": ".py",
   "mimetype": "text/x-python",
   "name": "python",
   "nbconvert_exporter": "python",
   "pygments_lexer": "ipython3",
   "version": "3.6.13"
  }
 },
 "nbformat": 4,
 "nbformat_minor": 5
}
