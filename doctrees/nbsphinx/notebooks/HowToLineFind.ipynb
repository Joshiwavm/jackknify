{
 "cells": [
  {
   "cell_type": "markdown",
   "id": "870343b9-07ae-491a-b743-650b69e33f98",
   "metadata": {},
   "source": [
    "# How to: Use `jackknify` for line finding. "
   ]
  },
  {
   "cell_type": "markdown",
   "id": "6cd6f83b-8236-46fe-b940-93cccfc82367",
   "metadata": {},
   "source": [
    "`jackknify` can be used in a variaty of ways. Here, we show how to use the jackknifed data sets for inference of a line detection. According to JWST data, In the ALMA data we have been working with, there should be [OIII] emission coming from a galaxy which some 14 Billion light years away. Let's see if we can find it, or if it is undistinguishable from noise.\n",
    "\n",
    "The line finding is done with a code named [Source EXtractor](https://www.astromatic.net/software/sextractor/). Source extractor is integrated in a Python interface through the [`Interferopy` package](https://interferopy.readthedocs.io/en/latest/). Sadly, the combination of `interferopy` and `casatasks` restricts the usage of Python version to Python=3.8. We ran the linefinding seperately, but you can you find the output catalogs also on the [google drive](https://drive.google.com/file/d/1FlQNwy7VtAk0zcFfdW5tMY2aGKivxlyR/view?usp=sharing) and the script we used to generate the outputs in the same folder as the tutorials. \n",
    "\n",
    "Let's first load in everything. "
   ]
  },
  {
   "cell_type": "markdown",
   "id": "e0fde5d3-b707-4110-ad06-cd64a52eef69",
   "metadata": {},
   "source": [
    "### Load in "
   ]
  },
  {
   "cell_type": "code",
   "execution_count": 1,
   "id": "2561edc8-1e1b-4f78-ba4f-fd081fe267fb",
   "metadata": {},
   "outputs": [],
   "source": [
    "import os\n",
    "import numpy as np\n",
    "from scipy import stats\n",
    "from astropy.io import ascii, fits\n",
    "from astropy import constants as c\n",
    "from astropy import units as u\n",
    "from astropy.modeling import models\n",
    "from astropy.coordinates import SkyCoord\n",
    "import matplotlib as mpl\n",
    "import matplotlib.pyplot as plt\n",
    "plt.rcParams['text.usetex'] = True"
   ]
  },
  {
   "cell_type": "code",
   "execution_count": 2,
   "id": "db2df258",
   "metadata": {},
   "outputs": [],
   "source": [
    "def data(path, positive = True):\n",
    "    if positive:\n",
    "        return ascii.read(path+'findlcumps_clumpsP_minSNR_0_cropped.cat')\n",
    "    if not positive:\n",
    "        return ascii.read(path+'findlcumps_clumpsN_minSNR_0_cropped.cat')"
   ]
  },
  {
   "cell_type": "code",
   "execution_count": 3,
   "id": "fcefe7d5",
   "metadata": {},
   "outputs": [],
   "source": [
    "#noise\n",
    "galaxy = 'Glass-z13'\n",
    "\n",
    "outdir = '../../output/findclumps/'\n",
    "paths  = [outdir+x+'/' for x in os.listdir(outdir) if x.startswith('.') is False]\n",
    "paths_real = [s for s in paths if 'Jack' not in s]\n",
    "paths_jack = [s for s in paths if 'Jack' in s]\n",
    "\n",
    "paths_real = [s for s in paths_real if galaxy in s][0]\n",
    "paths_jack = [s for s in paths_jack if galaxy in s]"
   ]
  },
  {
   "cell_type": "markdown",
   "id": "cb1571cd-906d-4405-a3de-3b45763984ed",
   "metadata": {},
   "source": [
    "## Plot sampled probabillity functions\n",
    "\n",
    "As explained in [Vio & Andreani 2016](https://arxiv.org/abs/1602.02392), the underlying distribution that sets the likelihood of false detection is the distribution of peaks of a smoothed (close to) Gaussian random field. With the jackknifed measurment sets we effectively sample this distribution. This is more complete and more acurately than, for isntance, using the distribution of negative peak values as used in [Walter+2016](https://arxiv.org/abs/1607.06768). \n",
    "\n",
    "Let's first convert the dataframes to numpy arrays"
   ]
  },
  {
   "cell_type": "code",
   "execution_count": 4,
   "id": "41437f16",
   "metadata": {},
   "outputs": [],
   "source": [
    "RAs_real_P   = np.array(data(paths_real)['RA'])\n",
    "Decs_real_P  = np.array(data(paths_real)['DEC'])\n",
    "data_real_P  = np.array(data(paths_real)['SNR']) "
   ]
  },
  {
   "cell_type": "code",
   "execution_count": 5,
   "id": "b77084bd",
   "metadata": {},
   "outputs": [],
   "source": [
    "RAs_jack  = np.empty(0)\n",
    "Decs_jack = np.empty(0)\n",
    "data_jack = np.empty(0)\n",
    "\n",
    "for idx, path in enumerate(paths_jack):\n",
    "    RAs_jack  = np.append(RAs_jack,  np.array(data(path)['RA']))\n",
    "    Decs_jack = np.append(Decs_jack, np.array(data(path)['DEC']))\n",
    "    data_jack = np.append(data_jack, np.array(data(path)['SNR']))"
   ]
  },
  {
   "cell_type": "markdown",
   "id": "3641813b-ec8a-4394-bf24-29567590a2c4",
   "metadata": {},
   "source": [
    "### Detection inference\n",
    "\n",
    "Now let's compare the noise distribution --- drawn fromt the jackknifed data sets --- with the positive peak distribution of the real initial data set. Since the astronomical signal is positive, any excess in peaks distribution in the data can be considered real."
   ]
  },
  {
   "cell_type": "code",
   "execution_count": 6,
   "id": "f9f69655-26e5-4e1a-ac6f-d01f2f723b98",
   "metadata": {},
   "outputs": [
    {
     "data": {
      "image/png": "[encoded data removed]",
      "text/plain": [
       "<Figure size 440x400 with 1 Axes>"
      ]
     },
     "metadata": {},
     "output_type": "display_data"
    }
   ],
   "source": [
    "mpl.rcParams['hatch.linewidth'] = 1\n",
    "\n",
    "# Density vs SNR\n",
    "# --------------\n",
    "plt.figure(figsize=(4.4,4))\n",
    "plt.title('Glass-z12')\n",
    "\n",
    "# plt.grid(True, alpha = 0.4, lw=1, ls=':')\n",
    "\n",
    "# plotting the Poisson uncertainty\n",
    "PTD, bin_edges = np.histogram(data_real_P, bins=np.linspace(0, 6, 26), density = True)\n",
    "PFD, bin_edges = np.histogram(data_jack,   bins=np.linspace(0, 6, 26), density = True)\n",
    "bin_centers = 0.5 * (bin_edges[1:] + bin_edges[:-1])\n",
    "bin_widths = bin_edges[1] - bin_edges[0]\n",
    "\n",
    "raw_counts, _ = np.histogram(data_real_P, bins=np.linspace(0, 6, 26))\n",
    "uncertainties = np.sqrt(raw_counts)\n",
    "density_uncertainties = uncertainties / (len(data_real_P) * bin_widths)\n",
    "\n",
    "plt.fill_between(bin_edges, np.append(0,PFD), step = 'pre', alpha = 0.7, color='C0', edgecolor='C0', lw=1, label = r'N$_{\\rm pos}$ jacked $\\propto\\mathcal{P}_{\\rm FD}$', hatch='x', rasterized = True)\n",
    "plt.fill_between(bin_edges, np.append(0,PTD), step = 'pre', alpha = 0.7, color='C2', edgecolor='C2', lw=1, label = r'N$_{\\rm pos}$ real $\\propto\\mathcal{P}_{\\rm D}$', hatch='', rasterized = True )\n",
    "plt.step(bin_edges, np.append(0,PFD), where = 'pre', alpha = 1, color='C0',  lw=1,)\n",
    "plt.step(bin_edges, np.append(0,PTD), where = 'pre', alpha = 1, color='C2',  lw=1,)\n",
    "plt.errorbar(bin_centers, PTD, yerr=density_uncertainties, fmt=' ', alpha=0.8, color='C2', label='Poisson uncertainty')\n",
    "\n",
    "\n",
    "plt.xlabel(r'$S/N$', fontsize = 12)\n",
    "plt.ylabel(r'PDF', fontsize = 12)\n",
    "plt.legend(frameon=False, fontsize = 12, loc = 1)\n",
    "plt.semilogy()\n",
    "plt.axis(ymin = 5.5e-4, ymax = 1e0, xmin = 0.1, xmax = 6.5) # added this\n",
    "\n",
    "plt.tight_layout()\n",
    "plt.show()"
   ]
  },
  {
   "cell_type": "markdown",
   "id": "25c370b2-0cd5-4852-9606-10f545b068d7",
   "metadata": {},
   "source": [
    "In the five jackknifed data sets we run, we thus find higher SNR peaks in the data cube. Thus we can't assume that the 4$\\sigma$ peak we find in the data is real. We can be more quantitive. Since we sampled the distribution of false positives with large statistics (preferable use more jack knifed data sets than 5), we can treat the resulting pdf as a sampled posterior distribution. Hence the integral from $\\gamma=3.8$ till the highest bin gives the likelihood of having at least one peak above the detection threshold of $3.8\\sigma$ which is:"
   ]
  },
  {
   "cell_type": "code",
   "execution_count": 7,
   "id": "f081dedf-53a6-43e9-8953-477da28c39f0",
   "metadata": {},
   "outputs": [
    {
     "name": "stdout",
     "output_type": "stream",
     "text": [
      "0.0065\n",
      "0.0064\n",
      "0.9839743589743585\n"
     ]
    }
   ],
   "source": [
    "snr = 3.8\n",
    "fd = np.sum(bin_widths*PFD[bin_centers>snr])\n",
    "td = np.sum(bin_widths*PTD[bin_centers>snr])\n",
    "\n",
    "print('{:.4f}'.format(fd))\n",
    "print('{:.4f}'.format(td))\n",
    "print(td/fd)"
   ]
  },
  {
   "cell_type": "code",
   "execution_count": 8,
   "id": "405de4c6",
   "metadata": {},
   "outputs": [
    {
     "name": "stdout",
     "output_type": "stream",
     "text": [
      "Number of Peaks: N= 936\n"
     ]
    }
   ],
   "source": [
    "print(\"Number of Peaks: N=\", len(data_real_P))"
   ]
  },
  {
   "cell_type": "markdown",
   "id": "74715b82-869c-4467-8b97-5fcbdb24fb53",
   "metadata": {},
   "source": [
    "But with N, amount of peaks in the data we expect to find:"
   ]
  },
  {
   "cell_type": "code",
   "execution_count": 9,
   "id": "d185abd2-04c3-4c4d-8c7b-e9299661e789",
   "metadata": {},
   "outputs": [
    {
     "name": "stdout",
     "output_type": "stream",
     "text": [
      "~ 6.097719869706839 ± 2.469356165016873\n"
     ]
    }
   ],
   "source": [
    "print('~',     fd * len(data_real_P), \n",
    "'±',   np.sqrt(fd * len(data_real_P)))"
   ]
  },
  {
   "cell_type": "markdown",
   "id": "8e6358ce-7fbb-4f5a-a78e-8bbf8b4eb26e",
   "metadata": {},
   "source": [
    "and we find in the real data set:"
   ]
  },
  {
   "cell_type": "code",
   "execution_count": 10,
   "id": "2ad510ab-4ff6-4416-a0ab-b79d46c3f193",
   "metadata": {},
   "outputs": [
    {
     "name": "stdout",
     "output_type": "stream",
     "text": [
      "~ 5.999999999999995 ± 2.449489742783177\n"
     ]
    }
   ],
   "source": [
    "print('~',     td * len(data_real_P), \n",
    "'±',   np.sqrt(td * len(data_real_P)))"
   ]
  },
  {
   "cell_type": "markdown",
   "id": "ee3721db",
   "metadata": {},
   "source": [
    "Hence, the data is completely consistent with noise."
   ]
  }
 ],
 "metadata": {
  "kernelspec": {
   "display_name": "interfero",
   "language": "python",
   "name": "python3"
  },
  "language_info": {
   "codemirror_mode": {
    "name": "ipython",
    "version": 3
   },
   "file_extension": ".py",
   "mimetype": "text/x-python",
   "name": "python",
   "nbconvert_exporter": "python",
   "pygments_lexer": "ipython3",
   "version": "3.9.19"
  }
 },
 "nbformat": 4,
 "nbformat_minor": 5
}
